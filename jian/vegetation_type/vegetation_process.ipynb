{
 "cells": [
  {
   "cell_type": "code",
   "execution_count": null,
   "id": "2e353e45",
   "metadata": {},
   "outputs": [],
   "source": [
    "import xarray as xr\n",
    "import numpy as np\n",
    "import pandas as pd\n",
    "\n",
    "file_path = r\"C:\\Users\\USER\\Downloads\\abc6569bc8aaa656391ded6f7759b7e1\\C3S-LC-L4-LCCS-Map-300m-P1Y-2022-v2.1.1.area-subset.39.132.33.124.nc\"\n",
    "ds = xr.open_dataset(file_path)\n",
    "\n",
    "lccs = ds[\"lccs_class\"]\n",
    "lats = ds[\"lat\"].values\n",
    "lons = ds[\"lon\"].values\n",
    "data = lccs[0, :, :].values\n",
    "\n",
    "records = []\n",
    "\n",
    "for i, lat in enumerate(lats):\n",
    "    for j, lon in enumerate(lons):\n",
    "        val = data[i, j]\n",
    "        if not np.isnan(val):\n",
    "            lat_bin = int(np.floor(lat / 0.1))\n",
    "            lon_bin = int(np.floor(lon / 0.1))\n",
    "            grid_id = (lat_bin + 900) * 3600 + (lon_bin + 1800)\n",
    "            records.append({\n",
    "                \"date\": \"2022-01-01\",\n",
    "                \"grid_id\": grid_id,\n",
    "                \"lead\": 0,\n",
    "                \"vegetation_type\": int(val)\n",
    "            })\n",
    "\n",
    "df = pd.DataFrame(records)\n",
    "df.to_csv(\"vegetation_type_2022.csv\", index=False, encoding=\"utf-8-sig\")\n",
    "print(\"✅ 저장 완료: vegetation_type_2022.csv\")\n"
   ]
  }
 ],
 "metadata": {
  "language_info": {
   "name": "python"
  }
 },
 "nbformat": 4,
 "nbformat_minor": 5
}

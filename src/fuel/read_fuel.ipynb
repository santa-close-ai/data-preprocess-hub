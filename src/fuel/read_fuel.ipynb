{
 "cells": [
  {
   "cell_type": "code",
   "execution_count": 1,
   "id": "9a8b36d6",
   "metadata": {},
   "outputs": [],
   "source": [
    "import os\n",
    "import csv\n",
    "import numpy as np\n",
    "import netCDF4 as nc"
   ]
  },
  {
   "cell_type": "code",
   "execution_count": 2,
   "id": "4d04b433",
   "metadata": {},
   "outputs": [],
   "source": [
    "base_dir = r'F:\\Study\\santa-close-ai\\data-preprocess-hub\\data\\fuel\\raw'\n",
    "\n",
    "dfmc_dir = 'DFMC'\n",
    "fuel_dir = 'FUEL'\n",
    "lfmc_dir = 'LFMC'\n",
    "\n",
    "dfmc_file = 'DFMC_MAP_2021_12.area-subset.39.132.33.124.nc'\n",
    "fuel_file = 'FUEL_MAP_2021_12.area-subset.39.132.33.124.nc'\n",
    "lfmc_file = 'LFMC_MAP_2021_12.area-subset.39.132.33.124.nc'"
   ]
  },
  {
   "cell_type": "code",
   "execution_count": 3,
   "id": "db8587f2",
   "metadata": {},
   "outputs": [
    {
     "data": {
      "text/plain": [
       "'F:\\\\Study\\\\santa-close-ai\\\\data-preprocess-hub\\\\data\\\\fuel\\\\raw\\\\DFMC\\\\DFMC_MAP_2021_12.area-subset.39.132.33.124.nc'"
      ]
     },
     "execution_count": 3,
     "metadata": {},
     "output_type": "execute_result"
    }
   ],
   "source": [
    "dfmc_path = os.path.join(base_dir, dfmc_dir, dfmc_file)\n",
    "dfmc_path"
   ]
  },
  {
   "cell_type": "code",
   "execution_count": 4,
   "id": "6b6ac3e2",
   "metadata": {},
   "outputs": [
    {
     "data": {
      "text/plain": [
       "'F:\\\\Study\\\\santa-close-ai\\\\data-preprocess-hub\\\\data\\\\fuel\\\\raw\\\\FUEL\\\\FUEL_MAP_2021_12.area-subset.39.132.33.124.nc'"
      ]
     },
     "execution_count": 4,
     "metadata": {},
     "output_type": "execute_result"
    }
   ],
   "source": [
    "fuel_path = os.path.join(base_dir, fuel_dir, fuel_file)\n",
    "fuel_path"
   ]
  },
  {
   "cell_type": "code",
   "execution_count": 5,
   "id": "161f4851",
   "metadata": {},
   "outputs": [
    {
     "data": {
      "text/plain": [
       "'F:\\\\Study\\\\santa-close-ai\\\\data-preprocess-hub\\\\data\\\\fuel\\\\raw\\\\LFMC\\\\LFMC_MAP_2021_12.area-subset.39.132.33.124.nc'"
      ]
     },
     "execution_count": 5,
     "metadata": {},
     "output_type": "execute_result"
    }
   ],
   "source": [
    "lfmc_path = os.path.join(base_dir, lfmc_dir, lfmc_file)\n",
    "lfmc_path"
   ]
  },
  {
   "cell_type": "code",
   "execution_count": 6,
   "id": "862ff4e1",
   "metadata": {},
   "outputs": [
    {
     "name": "stdout",
     "output_type": "stream",
     "text": [
      "DFMC Exists : F:\\Study\\santa-close-ai\\data-preprocess-hub\\data\\fuel\\raw\\DFMC\\DFMC_MAP_2021_12.area-subset.39.132.33.124.nc\n",
      "FUEL Exists : F:\\Study\\santa-close-ai\\data-preprocess-hub\\data\\fuel\\raw\\FUEL\\FUEL_MAP_2021_12.area-subset.39.132.33.124.nc\n",
      "LFMC Exists : F:\\Study\\santa-close-ai\\data-preprocess-hub\\data\\fuel\\raw\\LFMC\\LFMC_MAP_2021_12.area-subset.39.132.33.124.nc\n"
     ]
    }
   ],
   "source": [
    "if os.path.exists(dfmc_path):\n",
    "    print(\"DFMC Exists : {}\".format(dfmc_path))\n",
    "\n",
    "if os.path.exists(fuel_path):\n",
    "    print(\"FUEL Exists : {}\".format(fuel_path))\n",
    "\n",
    "if os.path.exists(lfmc_path):\n",
    "    print(\"LFMC Exists : {}\".format(lfmc_path))"
   ]
  },
  {
   "cell_type": "code",
   "execution_count": 7,
   "id": "531b9b28",
   "metadata": {},
   "outputs": [
    {
     "data": {
      "text/plain": [
       "<class 'netCDF4.Dataset'>\n",
       "root group (NETCDF4 data model, file format HDF5):\n",
       "    CDI: Climate Data Interface version 2.4.0 (https://mpimet.mpg.de/cdi)\n",
       "    Conventions: CF-1.6\n",
       "    CDO: Climate Data Operators version 2.4.0 (https://mpimet.mpg.de/cdo)\n",
       "    history: Tue Nov 26 22:06:58 2024: ncatted -O -a standard_name,time,c,c,time -a calendar,time,c,c,standard -a axis,time,c,c,T -a units,lon,m,c,degrees_east -a axis,lon,c,c,X -a units,lat,m,c,degrees_north -a axis,lat,c,c,Y -a missing_value,DFMC_Wood,c,f,nan -a missing_value,DFMC_Foliage,c,f,nan tmp_unlimx.nc /ec/vol/cems_fire/FUEL_DATA/ECMWF-Fuel-Characteristics_V1/Fuel-Moisture/Dead/2021/DFMC_MAP_2021_12.nc\n",
       "Tue Nov 26 22:06:02 2024: cdo mulc,100 tmpx.nc tmp_unlimx.nc\n",
       "Tue Nov 26 22:05:22 2024: cdo -f nc4c -setreftime,2021-12-01,00:00:00,1day /ec/vol/centaur/pajm/DATA/DFMC_MAP_2021_12.nc tmpx.nc\n",
       "    NCO: netCDF Operators version 5.1.9 (Homepage = http://nco.sf.net, Code = http://github.com/nco/nco, Citation = 10.1016/j.envsoft.2008.03.004)\n",
       "    dimensions(sizes): time(31), lat(86), lon(114)\n",
       "    variables(dimensions): float64 DFMC_Foliage(time, lat, lon), float64 DFMC_Wood(time, lat, lon), float64 time(time), float64 lon(lon), float64 lat(lat)\n",
       "    groups: "
      ]
     },
     "execution_count": 7,
     "metadata": {},
     "output_type": "execute_result"
    }
   ],
   "source": [
    "dfmc_data = nc.Dataset(dfmc_path)\n",
    "dfmc_data"
   ]
  },
  {
   "cell_type": "code",
   "execution_count": 8,
   "id": "6391d8e6",
   "metadata": {},
   "outputs": [
    {
     "data": {
      "text/plain": [
       "<class 'netCDF4.Dataset'>\n",
       "root group (NETCDF4 data model, file format HDF5):\n",
       "    CDI: Climate Data Interface version 2.4.0 (https://mpimet.mpg.de/cdi)\n",
       "    Conventions: CF-1.6\n",
       "    CDO: Climate Data Operators version 2.4.0 (https://mpimet.mpg.de/cdo)\n",
       "    history: Wed Dec  4 18:16:05 2024: ncatted -O -a standard_name,time,c,c,time -a calendar,time,c,c,standard -a axis,time,c,c,T -a units,lon,m,c,degrees_east -a axis,lon,c,c,X -a units,lat,m,c,degrees_north -a axis,lat,c,c,Y -a missing_value,Live_Leaf,c,f,nan -a missing_value,Live_Wood,c,f,nan -a missing_value,Dead_Foliage,c,f,nan -a missing_value,Dead_Wood,c,f,nan tmp_unlim.nc /ec/vol/cems_fire/FUEL_DATA/ECMWF-Fuel-Characteristics_V1/Fuel-Load/2021/FUEL_MAP_2021_12.nc\n",
       "Wed Dec 04 18:13:38 2024: cdo -f nc4c -setreftime,2021-12-01,00:00:00,1day /ec/vol/centaur/pajm/DATA/TV_CFUEL_CORRECTED_MAP_2021_12.nc tmp_unlim.nc\n",
       "    NCO: netCDF Operators version 5.1.9 (Homepage = http://nco.sf.net, Code = http://github.com/nco/nco, Citation = 10.1016/j.envsoft.2008.03.004)\n",
       "    dimensions(sizes): time(31), lat(86), lon(114)\n",
       "    variables(dimensions): float64 Live_Leaf(time, lat, lon), float64 Live_Wood(time, lat, lon), float64 Dead_Foliage(time, lat, lon), float64 Dead_Wood(time, lat, lon), float64 time(time), float32 lon(lon), float32 lat(lat)\n",
       "    groups: "
      ]
     },
     "execution_count": 8,
     "metadata": {},
     "output_type": "execute_result"
    }
   ],
   "source": [
    "fuel_data = nc.Dataset(fuel_path)\n",
    "fuel_data"
   ]
  },
  {
   "cell_type": "code",
   "execution_count": 9,
   "id": "59582212",
   "metadata": {},
   "outputs": [
    {
     "data": {
      "text/plain": [
       "<class 'netCDF4.Dataset'>\n",
       "root group (NETCDF4 data model, file format HDF5):\n",
       "    CDI: Climate Data Interface version 2.4.0 (https://mpimet.mpg.de/cdi)\n",
       "    Conventions: CF-1.6\n",
       "    CDO: Climate Data Operators version 2.4.0 (https://mpimet.mpg.de/cdo)\n",
       "    history: Tue Nov 26 21:29:44 2024: ncatted -O -a standard_name,time,c,c,time -a calendar,time,c,c,standard -a axis,time,c,c,T -a units,lon,m,c,degrees_east -a axis,lon,c,c,X -a units,lat,m,c,degrees_north -a axis,lat,c,c,Y -a missing_value,LFMC,c,f,nan -a missing_value,LFMC_low,c,f,nan -a missing_value,LFMC_high,c,f,nan tmpy.nc /ec/vol/cems_fire/FUEL_DATA/ECMWF-Fuel-Characteristics_V1/Fuel-Moisture/Live/2021/LFMC_MAP_2021_12.nc\n",
       "Tue Nov 26 21:28:02 2024: cdo -f nc4c -setreftime,2021-12-01,00:00:00,1day /ec/vol/centaur/pajm/DATA/LFMC_MAP_2021_12.nc tmpy.nc\n",
       "    NCO: netCDF Operators version 5.1.9 (Homepage = http://nco.sf.net, Code = http://github.com/nco/nco, Citation = 10.1016/j.envsoft.2008.03.004)\n",
       "    dimensions(sizes): time(31), lat(86), lon(114)\n",
       "    variables(dimensions): float32 LFMC(time, lat, lon), float32 LFMC_low(time, lat, lon), float32 LFMC_high(time, lat, lon), float64 time(time), float64 lon(lon), float64 lat(lat)\n",
       "    groups: "
      ]
     },
     "execution_count": 9,
     "metadata": {},
     "output_type": "execute_result"
    }
   ],
   "source": [
    "lfmc_data = nc.Dataset(lfmc_path)\n",
    "lfmc_data"
   ]
  },
  {
   "cell_type": "code",
   "execution_count": 10,
   "id": "6a498895",
   "metadata": {},
   "outputs": [
    {
     "data": {
      "text/plain": [
       "array([124.06542056, 124.13551402, 124.20560748, 124.27570093,\n",
       "       124.34579439, 124.41588785, 124.48598131, 124.55607477,\n",
       "       124.62616822, 124.69626168, 124.76635514, 124.8364486 ,\n",
       "       124.90654206, 124.97663551, 125.04672897, 125.11682243,\n",
       "       125.18691589, 125.25700935, 125.3271028 , 125.39719626,\n",
       "       125.46728972, 125.53738318, 125.60747664, 125.67757009,\n",
       "       125.74766355, 125.81775701, 125.88785047, 125.95794393,\n",
       "       126.02803738, 126.09813084, 126.1682243 , 126.23831776,\n",
       "       126.30841121, 126.37850467, 126.44859813, 126.51869159,\n",
       "       126.58878505, 126.6588785 , 126.72897196, 126.79906542,\n",
       "       126.86915888, 126.93925234, 127.00934579, 127.07943925,\n",
       "       127.14953271, 127.21962617, 127.28971963, 127.35981308,\n",
       "       127.42990654, 127.5       , 127.57009346, 127.64018692,\n",
       "       127.71028037, 127.78037383, 127.85046729, 127.92056075,\n",
       "       127.99065421, 128.06074766, 128.13084112, 128.20093458,\n",
       "       128.27102804, 128.3411215 , 128.41121495, 128.48130841,\n",
       "       128.55140187, 128.62149533, 128.69158879, 128.76168224,\n",
       "       128.8317757 , 128.90186916, 128.97196262, 129.04205607,\n",
       "       129.11214953, 129.18224299, 129.25233645, 129.32242991,\n",
       "       129.39252336, 129.46261682, 129.53271028, 129.60280374,\n",
       "       129.6728972 , 129.74299065, 129.81308411, 129.88317757,\n",
       "       129.95327103, 130.02336449, 130.09345794, 130.1635514 ,\n",
       "       130.23364486, 130.30373832, 130.37383178, 130.44392523,\n",
       "       130.51401869, 130.58411215, 130.65420561, 130.72429907,\n",
       "       130.79439252, 130.86448598, 130.93457944, 131.0046729 ,\n",
       "       131.07476636, 131.14485981, 131.21495327, 131.28504673,\n",
       "       131.35514019, 131.42523364, 131.4953271 , 131.56542056,\n",
       "       131.63551402, 131.70560748, 131.77570093, 131.84579439,\n",
       "       131.91588785, 131.98598131])"
      ]
     },
     "execution_count": 10,
     "metadata": {},
     "output_type": "execute_result"
    }
   ],
   "source": [
    "dfmc_lon = dfmc_data['lon'][:].data\n",
    "dfmc_lon"
   ]
  },
  {
   "cell_type": "code",
   "execution_count": 11,
   "id": "b5fdf342",
   "metadata": {},
   "outputs": [
    {
     "data": {
      "text/plain": [
       "array([38.98066695, 38.91036819, 38.84006942, 38.76977065, 38.69947188,\n",
       "       38.62917312, 38.55887435, 38.48857558, 38.41827681, 38.34797805,\n",
       "       38.27767928, 38.20738051, 38.13708174, 38.06678298, 37.99648421,\n",
       "       37.92618544, 37.85588667, 37.78558791, 37.71528914, 37.64499037,\n",
       "       37.5746916 , 37.50439283, 37.43409407, 37.3637953 , 37.29349653,\n",
       "       37.22319776, 37.152899  , 37.08260023, 37.01230146, 36.94200269,\n",
       "       36.87170393, 36.80140516, 36.73110639, 36.66080762, 36.59050886,\n",
       "       36.52021009, 36.44991132, 36.37961255, 36.30931378, 36.23901502,\n",
       "       36.16871625, 36.09841748, 36.02811871, 35.95781995, 35.88752118,\n",
       "       35.81722241, 35.74692364, 35.67662487, 35.60632611, 35.53602734,\n",
       "       35.46572857, 35.3954298 , 35.32513104, 35.25483227, 35.1845335 ,\n",
       "       35.11423473, 35.04393596, 34.9736372 , 34.90333843, 34.83303966,\n",
       "       34.76274089, 34.69244213, 34.62214336, 34.55184459, 34.48154582,\n",
       "       34.41124705, 34.34094829, 34.27064952, 34.20035075, 34.13005198,\n",
       "       34.05975322, 33.98945445, 33.91915568, 33.84885691, 33.77855814,\n",
       "       33.70825938, 33.63796061, 33.56766184, 33.49736307, 33.42706431,\n",
       "       33.35676554, 33.28646677, 33.216168  , 33.14586923, 33.07557047,\n",
       "       33.0052717 ])"
      ]
     },
     "execution_count": 11,
     "metadata": {},
     "output_type": "execute_result"
    }
   ],
   "source": [
    "dfmc_lat = dfmc_data['lat'][:].data\n",
    "dfmc_lat"
   ]
  },
  {
   "cell_type": "code",
   "execution_count": 12,
   "id": "0a9586cf",
   "metadata": {},
   "outputs": [
    {
     "data": {
      "text/plain": [
       "array([ 0.5       ,  1.47916667,  2.47916667,  3.47916667,  4.47916667,\n",
       "        5.47916667,  6.47916667,  7.47916667,  8.47916667,  9.47916667,\n",
       "       10.47916667, 11.47916667, 12.47916667, 13.47916667, 14.47916667,\n",
       "       15.47916667, 16.47916667, 17.47916667, 18.47916667, 19.47916667,\n",
       "       20.47916667, 21.47916667, 22.47916667, 23.47916667, 24.47916667,\n",
       "       25.47916667, 26.47916667, 27.47916667, 28.47916667, 29.47916667,\n",
       "       30.47916667])"
      ]
     },
     "execution_count": 12,
     "metadata": {},
     "output_type": "execute_result"
    }
   ],
   "source": [
    "dfmc_time = dfmc_data['time'][:].data\n",
    "dfmc_time"
   ]
  },
  {
   "cell_type": "code",
   "execution_count": 13,
   "id": "fd6930a2",
   "metadata": {},
   "outputs": [
    {
     "data": {
      "text/plain": [
       "array([124.06542 , 124.13551 , 124.205605, 124.2757  , 124.345795,\n",
       "       124.415886, 124.485985, 124.556076, 124.62617 , 124.69626 ,\n",
       "       124.76636 , 124.83645 , 124.90654 , 124.97664 , 125.04673 ,\n",
       "       125.11682 , 125.18691 , 125.25701 , 125.3271  , 125.397194,\n",
       "       125.46729 , 125.537384, 125.607475, 125.67757 , 125.747665,\n",
       "       125.81776 , 125.88785 , 125.95795 , 126.02804 , 126.09813 ,\n",
       "       126.16822 , 126.23832 , 126.30841 , 126.3785  , 126.4486  ,\n",
       "       126.51869 , 126.58878 , 126.65888 , 126.72897 , 126.799065,\n",
       "       126.869156, 126.939255, 127.009346, 127.07944 , 127.149536,\n",
       "       127.21963 , 127.28972 , 127.35981 , 127.42991 , 127.5     ,\n",
       "       127.57009 , 127.64019 , 127.71028 , 127.78037 , 127.850464,\n",
       "       127.92056 , 127.990654, 128.06075 , 128.13084 , 128.20093 ,\n",
       "       128.27103 , 128.34113 , 128.41121 , 128.48131 , 128.5514  ,\n",
       "       128.62149 , 128.69159 , 128.76169 , 128.83177 , 128.90187 ,\n",
       "       128.97197 , 129.04205 , 129.11215 , 129.18224 , 129.25233 ,\n",
       "       129.32243 , 129.39252 , 129.46262 , 129.53271 , 129.6028  ,\n",
       "       129.6729  , 129.743   , 129.81308 , 129.88318 , 129.95328 ,\n",
       "       130.02336 , 130.09346 , 130.16356 , 130.23364 , 130.30374 ,\n",
       "       130.37383 , 130.44392 , 130.51402 , 130.5841  , 130.6542  ,\n",
       "       130.7243  , 130.79439 , 130.86449 , 130.93459 , 131.00467 ,\n",
       "       131.07477 , 131.14487 , 131.21495 , 131.28505 , 131.35513 ,\n",
       "       131.42523 , 131.49533 , 131.56541 , 131.63551 , 131.70561 ,\n",
       "       131.7757  , 131.8458  , 131.9159  , 131.98598 ], dtype=float32)"
      ]
     },
     "execution_count": 13,
     "metadata": {},
     "output_type": "execute_result"
    }
   ],
   "source": [
    "fuel_lon = fuel_data['lon'][:].data\n",
    "fuel_lon"
   ]
  },
  {
   "cell_type": "code",
   "execution_count": 14,
   "id": "b1998c76",
   "metadata": {},
   "outputs": [
    {
     "data": {
      "text/plain": [
       "array([38.980667, 38.91037 , 38.84007 , 38.76977 , 38.69947 , 38.629173,\n",
       "       38.558876, 38.488575, 38.418278, 38.347977, 38.27768 , 38.207382,\n",
       "       38.13708 , 38.066784, 37.996483, 37.926186, 37.85589 , 37.785587,\n",
       "       37.71529 , 37.64499 , 37.57469 , 37.504395, 37.434093, 37.363796,\n",
       "       37.293495, 37.223198, 37.1529  , 37.0826  , 37.012302, 36.942   ,\n",
       "       36.871704, 36.801407, 36.731106, 36.66081 , 36.590508, 36.52021 ,\n",
       "       36.449913, 36.379612, 36.309315, 36.239014, 36.168716, 36.09842 ,\n",
       "       36.02812 , 35.95782 , 35.88752 , 35.817223, 35.746925, 35.676624,\n",
       "       35.606327, 35.536026, 35.46573 , 35.39543 , 35.32513 , 35.254833,\n",
       "       35.184532, 35.114235, 35.043938, 34.973637, 34.90334 , 34.83304 ,\n",
       "       34.76274 , 34.692444, 34.622143, 34.551846, 34.481544, 34.411247,\n",
       "       34.34095 , 34.27065 , 34.20035 , 34.13005 , 34.059753, 33.989456,\n",
       "       33.919155, 33.848858, 33.778557, 33.70826 , 33.637962, 33.56766 ,\n",
       "       33.497364, 33.427063, 33.356766, 33.28647 , 33.216167, 33.14587 ,\n",
       "       33.07557 , 33.005272], dtype=float32)"
      ]
     },
     "execution_count": 14,
     "metadata": {},
     "output_type": "execute_result"
    }
   ],
   "source": [
    "fuel_lat = fuel_data['lat'][:].data\n",
    "fuel_lat"
   ]
  },
  {
   "cell_type": "code",
   "execution_count": 15,
   "id": "ece2a0ec",
   "metadata": {},
   "outputs": [
    {
     "data": {
      "text/plain": [
       "array([0.        , 0.04166667, 0.08333333, 0.125     , 0.16666667,\n",
       "       0.20833333, 0.25      , 0.29166667, 0.33333333, 0.375     ,\n",
       "       0.41666667, 0.45833333, 0.5       , 0.54166667, 0.58333333,\n",
       "       0.625     , 0.66666667, 0.70833333, 0.75      , 0.79166667,\n",
       "       0.83333333, 0.875     , 0.91666667, 0.95833333, 1.        ,\n",
       "       1.04166667, 1.08333333, 1.125     , 1.16666667, 1.20833333,\n",
       "       1.25      ])"
      ]
     },
     "execution_count": 15,
     "metadata": {},
     "output_type": "execute_result"
    }
   ],
   "source": [
    "fuel_time = fuel_data['time'][:].data\n",
    "fuel_time"
   ]
  },
  {
   "cell_type": "code",
   "execution_count": 16,
   "id": "4adede1c",
   "metadata": {},
   "outputs": [
    {
     "data": {
      "text/plain": [
       "array([124.06542056, 124.13551402, 124.20560748, 124.27570093,\n",
       "       124.34579439, 124.41588785, 124.48598131, 124.55607477,\n",
       "       124.62616822, 124.69626168, 124.76635514, 124.8364486 ,\n",
       "       124.90654206, 124.97663551, 125.04672897, 125.11682243,\n",
       "       125.18691589, 125.25700935, 125.3271028 , 125.39719626,\n",
       "       125.46728972, 125.53738318, 125.60747664, 125.67757009,\n",
       "       125.74766355, 125.81775701, 125.88785047, 125.95794393,\n",
       "       126.02803738, 126.09813084, 126.1682243 , 126.23831776,\n",
       "       126.30841121, 126.37850467, 126.44859813, 126.51869159,\n",
       "       126.58878505, 126.6588785 , 126.72897196, 126.79906542,\n",
       "       126.86915888, 126.93925234, 127.00934579, 127.07943925,\n",
       "       127.14953271, 127.21962617, 127.28971963, 127.35981308,\n",
       "       127.42990654, 127.5       , 127.57009346, 127.64018692,\n",
       "       127.71028037, 127.78037383, 127.85046729, 127.92056075,\n",
       "       127.99065421, 128.06074766, 128.13084112, 128.20093458,\n",
       "       128.27102804, 128.3411215 , 128.41121495, 128.48130841,\n",
       "       128.55140187, 128.62149533, 128.69158879, 128.76168224,\n",
       "       128.8317757 , 128.90186916, 128.97196262, 129.04205607,\n",
       "       129.11214953, 129.18224299, 129.25233645, 129.32242991,\n",
       "       129.39252336, 129.46261682, 129.53271028, 129.60280374,\n",
       "       129.6728972 , 129.74299065, 129.81308411, 129.88317757,\n",
       "       129.95327103, 130.02336449, 130.09345794, 130.1635514 ,\n",
       "       130.23364486, 130.30373832, 130.37383178, 130.44392523,\n",
       "       130.51401869, 130.58411215, 130.65420561, 130.72429907,\n",
       "       130.79439252, 130.86448598, 130.93457944, 131.0046729 ,\n",
       "       131.07476636, 131.14485981, 131.21495327, 131.28504673,\n",
       "       131.35514019, 131.42523364, 131.4953271 , 131.56542056,\n",
       "       131.63551402, 131.70560748, 131.77570093, 131.84579439,\n",
       "       131.91588785, 131.98598131])"
      ]
     },
     "execution_count": 16,
     "metadata": {},
     "output_type": "execute_result"
    }
   ],
   "source": [
    "lfmc_lon = lfmc_data['lon'][:].data\n",
    "lfmc_lon"
   ]
  },
  {
   "cell_type": "code",
   "execution_count": 17,
   "id": "355a7e97",
   "metadata": {},
   "outputs": [
    {
     "data": {
      "text/plain": [
       "array([38.98066695, 38.91036819, 38.84006942, 38.76977065, 38.69947188,\n",
       "       38.62917312, 38.55887435, 38.48857558, 38.41827681, 38.34797805,\n",
       "       38.27767928, 38.20738051, 38.13708174, 38.06678298, 37.99648421,\n",
       "       37.92618544, 37.85588667, 37.78558791, 37.71528914, 37.64499037,\n",
       "       37.5746916 , 37.50439283, 37.43409407, 37.3637953 , 37.29349653,\n",
       "       37.22319776, 37.152899  , 37.08260023, 37.01230146, 36.94200269,\n",
       "       36.87170393, 36.80140516, 36.73110639, 36.66080762, 36.59050886,\n",
       "       36.52021009, 36.44991132, 36.37961255, 36.30931378, 36.23901502,\n",
       "       36.16871625, 36.09841748, 36.02811871, 35.95781995, 35.88752118,\n",
       "       35.81722241, 35.74692364, 35.67662487, 35.60632611, 35.53602734,\n",
       "       35.46572857, 35.3954298 , 35.32513104, 35.25483227, 35.1845335 ,\n",
       "       35.11423473, 35.04393596, 34.9736372 , 34.90333843, 34.83303966,\n",
       "       34.76274089, 34.69244213, 34.62214336, 34.55184459, 34.48154582,\n",
       "       34.41124705, 34.34094829, 34.27064952, 34.20035075, 34.13005198,\n",
       "       34.05975322, 33.98945445, 33.91915568, 33.84885691, 33.77855814,\n",
       "       33.70825938, 33.63796061, 33.56766184, 33.49736307, 33.42706431,\n",
       "       33.35676554, 33.28646677, 33.216168  , 33.14586923, 33.07557047,\n",
       "       33.0052717 ])"
      ]
     },
     "execution_count": 17,
     "metadata": {},
     "output_type": "execute_result"
    }
   ],
   "source": [
    "lfmc_lat = lfmc_data['lat'][:].data\n",
    "lfmc_lat"
   ]
  },
  {
   "cell_type": "code",
   "execution_count": 18,
   "id": "a74c538a",
   "metadata": {},
   "outputs": [
    {
     "data": {
      "text/plain": [
       "array([ 0.5,  1.5,  2.5,  3.5,  4.5,  5.5,  6.5,  7.5,  8.5,  9.5, 10.5,\n",
       "       11.5, 12.5, 13.5, 14.5, 15.5, 16.5, 17.5, 18.5, 19.5, 20.5, 21.5,\n",
       "       22.5, 23.5, 24.5, 25.5, 26.5, 27.5, 28.5, 29.5, 30.5])"
      ]
     },
     "execution_count": 18,
     "metadata": {},
     "output_type": "execute_result"
    }
   ],
   "source": [
    "lfmc_time = lfmc_data['time'][:].data\n",
    "lfmc_time"
   ]
  }
 ],
 "metadata": {
  "kernelspec": {
   "display_name": ".venv",
   "language": "python",
   "name": "python3"
  },
  "language_info": {
   "codemirror_mode": {
    "name": "ipython",
    "version": 3
   },
   "file_extension": ".py",
   "mimetype": "text/x-python",
   "name": "python",
   "nbconvert_exporter": "python",
   "pygments_lexer": "ipython3",
   "version": "3.12.9"
  }
 },
 "nbformat": 4,
 "nbformat_minor": 5
}
